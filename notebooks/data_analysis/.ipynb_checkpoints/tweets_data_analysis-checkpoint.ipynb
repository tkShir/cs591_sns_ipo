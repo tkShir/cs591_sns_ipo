{
 "cells": [
  {
   "cell_type": "markdown",
   "metadata": {},
   "source": [
    "# Starter Script (Change REPO_PATH at Start)"
   ]
  },
  {
   "cell_type": "code",
   "execution_count": 1,
   "metadata": {},
   "outputs": [],
   "source": [
    "# REPO_PATH, for easier standardization\n",
    "from os import path\n",
    "REPO_PATH = \"/Users/tks/Documents/GitHub/cs591_sns_ipo/\" # change me\n",
    "\n",
    "# all imports\n",
    "import os.path as path\n",
    "from os import makedirs, listdir\n",
    "\n",
    "# ------------------------------------\n",
    "# Helper functions \n",
    "# ------------------------------------\n",
    "\n",
    "\n",
    "# ------------------------------------\n",
    "# Helper functions for utility\n",
    "# ------------------------------------\n",
    "\n",
    "def save_df(df, title=None, save_path=None):\n",
    "    PATH_TO_REPO = \"/Users/tks/Documents/GitHub/cs591_sns_ipo\" # change me\n",
    "    \n",
    "    if save_path is None:\n",
    "        save_path = path.join(PATH_TO_REPO, \"sentiment_data\")\n",
    "    if not path.isdir(save_path):\n",
    "        makedirs(save_path)\n",
    "    if title is None:\n",
    "        title = \"Untitled_\" + str(len(listdir(save_path)))\n",
    "    \n",
    "    save_file = path.join(save_path, title)\n",
    "    \n",
    "    df.to_csv(save_file)"
   ]
  },
  {
   "cell_type": "code",
   "execution_count": 3,
   "metadata": {},
   "outputs": [
    {
     "data": {
      "text/plain": [
       "['SNOW_Tweets.csv',\n",
       " 'PLTR_Tweets.csv',\n",
       " 'ZI_Tweets.csv',\n",
       " 'ASAN_Tweets.csv',\n",
       " 'KC_Tweets.csv',\n",
       " 'U_Tweets.csv']"
      ]
     },
     "execution_count": 3,
     "metadata": {},
     "output_type": "execute_result"
    }
   ],
   "source": [
    "SENTIMENT_DATA_PATH = path.join(REPO_PATH, \"sentiment_data\")\n",
    "SENTIMENT_DATA_FILENAME = listdir(SENTIMENT_DATA_PATH)\n",
    "\n",
    "sentiment_data = [x for x in SENTIMENT_DATA_FILENAME if x.endswith(\"_Tweets.csv\") and (\"after\" not in x)]\n",
    "\n"
   ]
  },
  {
   "cell_type": "code",
   "execution_count": null,
   "metadata": {},
   "outputs": [],
   "source": []
  }
 ],
 "metadata": {
  "kernelspec": {
   "display_name": "Python 3",
   "language": "python",
   "name": "python3"
  },
  "language_info": {
   "codemirror_mode": {
    "name": "ipython",
    "version": 3
   },
   "file_extension": ".py",
   "mimetype": "text/x-python",
   "name": "python",
   "nbconvert_exporter": "python",
   "pygments_lexer": "ipython3",
   "version": "3.8.2"
  }
 },
 "nbformat": 4,
 "nbformat_minor": 4
}
